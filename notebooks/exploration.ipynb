{
 "cells": [
  {
   "cell_type": "code",
   "execution_count": 17,
   "id": "dc3fbc1f",
   "metadata": {},
   "outputs": [
    {
     "name": "stderr",
     "output_type": "stream",
     "text": [
      "[nltk_data] Downloading package stopwords to\n",
      "[nltk_data]     C:\\Users\\Mr.Aj_222\\AppData\\Roaming\\nltk_data...\n",
      "[nltk_data]   Package stopwords is already up-to-date!\n"
     ]
    },
    {
     "name": "stdout",
     "output_type": "stream",
     "text": [
      "Found files: ['jobs.csv', 'resumes.csv']\n",
      "Resumes shape: (2484, 4)\n",
      "Jobs shape: (22000, 14)\n",
      "Sample Resume:          HR ADMINISTRATOR/MARKETING ASSOCIATE\n",
      "\n",
      "HR ADMINISTRATOR       Summary     Dedicated Customer Service Manager with 15+ years of experience in Hospitality and Customer Service Management.   Resp ...\n",
      "Sample JD: Job Description   Send me Jobs like this Qualifications: - == > 10th To Graduation & Any Skill: - == > Basic Computer Knowledge Job Requirement : - == > System or Laptop Type of job: - == > Full Time  ...\n",
      "One-to-One Match Result: {'similarity_score': 58.59, 'feedback': 'Needs improvement'}\n",
      "\n",
      "Top 5 Resumes for JD #0:\n",
      "   Resume_Index  Similarity_Score    Feedback\n",
      "0          1718             73.19  Good match\n",
      "1           313             71.72  Good match\n",
      "2            78             71.69  Good match\n",
      "3            40             71.37  Good match\n",
      "4           246             71.07  Good match\n"
     ]
    }
   ],
   "source": [
    "# ---------- Setup ----------\n",
    "import os, sys\n",
    "import pandas as pd\n",
    "from sentence_transformers import SentenceTransformer, util\n",
    "import nltk\n",
    "\n",
    "# go one folder up from \"notebooks\" → project root\n",
    "sys.path.append(os.path.abspath(\"..\"))\n",
    "\n",
    "# now imports will work\n",
    "from src.preprocess import clean_text\n",
    "from src.analyzer import analyze_resume_jd\n",
    "\n",
    "# Ensure src package is accessible\n",
    "sys.path.append(os.path.abspath(\"..\"))\n",
    "\n",
    "# Download stopwords (only first time)\n",
    "nltk.download(\"stopwords\")\n",
    "\n",
    "# ---------- Import your project modules ----------\n",
    "from src.preprocess import clean_text\n",
    "from src.feature_extraction import get_embeddings\n",
    "from src.analyzer import analyze_resume_jd\n",
    "\n",
    "# ---------- Load Data ----------\n",
    "project_root = os.path.abspath(\"..\")\n",
    "data_dir = os.path.join(project_root, \"data\")\n",
    "\n",
    "files = os.listdir(data_dir)\n",
    "print(\"Found files:\", files)\n",
    "\n",
    "# Paths\n",
    "resumes_path = [f for f in files if \"resume\" in f.lower()][0]\n",
    "jobs_path = [f for f in files if \"job\" in f.lower()][0]\n",
    "\n",
    "resumes = pd.read_csv(os.path.join(data_dir, resumes_path))\n",
    "jobs = pd.read_csv(os.path.join(data_dir, jobs_path))\n",
    "\n",
    "print(\"Resumes shape:\", resumes.shape)\n",
    "print(\"Jobs shape:\", jobs.shape)\n",
    "\n",
    "# ✅ Define correct column names\n",
    "RESUME_COLUMN = \"Resume_str\"\n",
    "JOBDESC_COLUMN = \"jobdescription\"\n",
    "\n",
    "# ---------- Sample Pair ----------\n",
    "sample_resume = resumes[RESUME_COLUMN].iloc[0]\n",
    "sample_jd = jobs[JOBDESC_COLUMN].iloc[0]\n",
    "\n",
    "print(\"Sample Resume:\", sample_resume[:200], \"...\")\n",
    "print(\"Sample JD:\", sample_jd[:200], \"...\")\n",
    "\n",
    "result = analyze_resume_jd(sample_resume, sample_jd)\n",
    "print(\"One-to-One Match Result:\", result)\n",
    "\n",
    "# ---------- Rank All Resumes for First JD ----------\n",
    "jd = jobs[JOBDESC_COLUMN].iloc[0]\n",
    "results = []\n",
    "\n",
    "for i, res in enumerate(resumes[RESUME_COLUMN]):\n",
    "    score = analyze_resume_jd(res, jd)\n",
    "    results.append({\n",
    "        \"Resume_Index\": i,\n",
    "        \"Similarity_Score\": score[\"similarity_score\"],\n",
    "        \"Feedback\": score[\"feedback\"]\n",
    "    })\n",
    "\n",
    "ranked = pd.DataFrame(results).sort_values(\n",
    "    by=\"Similarity_Score\", ascending=False\n",
    ").reset_index(drop=True)\n",
    "\n",
    "print(\"\\nTop 5 Resumes for JD #0:\")\n",
    "print(ranked.head(5))\n"
   ]
  },
  {
   "cell_type": "markdown",
   "id": "02dd7eb0",
   "metadata": {},
   "source": [
    "## Ranking All Resumes vs One JD"
   ]
  },
  {
   "cell_type": "code",
   "execution_count": 16,
   "id": "75a9220c",
   "metadata": {},
   "outputs": [
    {
     "name": "stdout",
     "output_type": "stream",
     "text": [
      "Encoding resumes...\n",
      "Encoding job description...\n",
      "Top 10 Resumes for JD:\n",
      "   Resume_Index  Similarity_Score           Feedback\n",
      "0           649         71.910004         Good match\n",
      "1           587         71.800003         Good match\n",
      "2          1376         71.419998         Good match\n",
      "3          1359         71.199997         Good match\n",
      "4          1402         70.540001         Good match\n",
      "5          1368         70.470001         Good match\n",
      "6          1465         70.169998         Good match\n",
      "7          1389         69.919998  Needs improvement\n",
      "8          1447         69.629997  Needs improvement\n",
      "9           608         69.050003  Needs improvement\n"
     ]
    }
   ],
   "source": [
    "from sklearn.metrics.pairwise import cosine_similarity\n",
    "import numpy as np\n",
    "\n",
    "# 1. Precompute embeddings\n",
    "resume_texts = resumes[RESUME_COLUMN].apply(clean_text).tolist()\n",
    "job_text = clean_text(target_jd)\n",
    "\n",
    "print(\"Encoding resumes...\")\n",
    "resume_embeddings = get_embeddings(resume_texts)\n",
    "print(\"Encoding job description...\")\n",
    "job_embedding = get_embeddings([job_text])[0]  # single vector\n",
    "\n",
    "# 2. Compute similarity in one go\n",
    "similarities = cosine_similarity(resume_embeddings, [job_embedding]).flatten()\n",
    "\n",
    "# 3. Build results DataFrame\n",
    "ranked = pd.DataFrame({\n",
    "    \"Resume_Index\": range(len(resume_texts)),\n",
    "    \"Similarity_Score\": (similarities * 100).round(2),\n",
    "    \"Feedback\": [\"Good match\" if s > 0.7 else \"Needs improvement\" for s in similarities]\n",
    "}).sort_values(by=\"Similarity_Score\", ascending=False).reset_index(drop=True)\n",
    "\n",
    "print(\"Top 10 Resumes for JD:\")\n",
    "print(ranked.head(10))\n"
   ]
  },
  {
   "cell_type": "code",
   "execution_count": null,
   "id": "119a4713",
   "metadata": {},
   "outputs": [
    {
     "name": "stdout",
     "output_type": "stream",
     "text": [
      "Resume CSV columns: ['ID', 'Resume_str', 'Resume_html', 'Category']\n",
      "Jobs CSV columns: ['company', 'education', 'experience', 'industry', 'jobdescription', 'jobid', 'joblocation_address', 'jobtitle', 'numberofpositions', 'payrate', 'postdate', 'site_name', 'skills', 'uniq_id']\n"
     ]
    }
   ],
   "source": [
    "print(\"Resume CSV columns:\", resumes.columns.tolist())\n",
    "print(\"Jobs CSV columns:\", jobs.columns.tolist())\n"
   ]
  }
 ],
 "metadata": {
  "kernelspec": {
   "display_name": "venv",
   "language": "python",
   "name": "python3"
  },
  "language_info": {
   "codemirror_mode": {
    "name": "ipython",
    "version": 3
   },
   "file_extension": ".py",
   "mimetype": "text/x-python",
   "name": "python",
   "nbconvert_exporter": "python",
   "pygments_lexer": "ipython3",
   "version": "3.11.9"
  }
 },
 "nbformat": 4,
 "nbformat_minor": 5
}
